{
 "cells": [
  {
   "cell_type": "code",
   "execution_count": 1,
   "metadata": {},
   "outputs": [],
   "source": [
    "import pandas as pd"
   ]
  },
  {
   "cell_type": "code",
   "execution_count": 2,
   "metadata": {},
   "outputs": [],
   "source": [
    "#Decision trees also provide the foundation for more advanced ensemble methods such as\n",
    "#bagging, random forests and gradient boosting\n",
    "\n",
    "# Calculate the Gini index for a split dataset\n",
    "def gini_index(groups, class_values):\n",
    "    gini = 0.0\n",
    "    for class_value in class_values:\n",
    "        for group in groups:\n",
    "            size = len(group)\n",
    "            if size == 0:\n",
    "                continue\n",
    "            proportion = [row[-1] for row in group].count(class_value) / float(size)\n",
    "            gini += (proportion * (1.0 - proportion))\n",
    "    return gini"
   ]
  },
  {
   "cell_type": "code",
   "execution_count": 3,
   "metadata": {},
   "outputs": [],
   "source": [
    "# Split a dataset based on an attribute and an attribute value\n",
    "def test_split(index, value, dataset):\n",
    "    left, right = list(), list()\n",
    "    for row in dataset:\n",
    "        if row[index] < value:\n",
    "            left.append(row)\n",
    "        else:\n",
    "            right.append(row)\n",
    "    return left, right"
   ]
  },
  {
   "cell_type": "code",
   "execution_count": 4,
   "metadata": {},
   "outputs": [],
   "source": [
    "# Select the best split point for a dataset\n",
    "def get_split(dataset):\n",
    "    class_values = list(set(row[-1] for row in dataset))\n",
    "    b_index, b_value, b_score, b_groups = 999, 999, 999, None\n",
    "    for index in range(len(dataset[0])-1):\n",
    "        for row in dataset:\n",
    "            groups = test_split(index, row[index], dataset)\n",
    "            gini = gini_index(groups, class_values)\n",
    "            #print( ' X%d < %.3f Gini=%.3f ' % ((index+1), row[index], gini))\n",
    "            if gini < b_score:\n",
    "                b_index, b_value, b_score, b_groups = index, row[index], gini, groups\n",
    "    return { ' index ' :b_index, ' value ' :b_value, ' groups ' :b_groups}"
   ]
  },
  {
   "cell_type": "code",
   "execution_count": 5,
   "metadata": {},
   "outputs": [],
   "source": [
    "# Create a terminal node value\n",
    "def to_terminal(group):\n",
    "    outcomes = [row[-1] for row in group]\n",
    "    return max(set(outcomes), key=outcomes.count)"
   ]
  },
  {
   "cell_type": "code",
   "execution_count": 6,
   "metadata": {},
   "outputs": [],
   "source": [
    "# Create child splits for a node or make terminal\n",
    "def split(node, max_depth, min_size, depth):\n",
    "    left, right = node[ ' groups ' ]\n",
    "    del(node[ ' groups ' ])\n",
    "    # check for a no split\n",
    "    if not left or not right:\n",
    "        node[ ' left ' ] = node[ ' right ' ] = to_terminal(left + right)\n",
    "        return\n",
    "    # check for max depth\n",
    "    if depth >= max_depth:\n",
    "        node[ ' left ' ], node[ ' right ' ] = to_terminal(left), to_terminal(right)\n",
    "        return\n",
    "    # process left child\n",
    "    if len(left) <= min_size:\n",
    "        node[ ' left ' ] = to_terminal(left)\n",
    "    else:\n",
    "        node[ ' left ' ] = get_split(left)\n",
    "        split(node[ ' left ' ], max_depth, min_size, depth+1)\n",
    "    # process right child\n",
    "    if len(right) <= min_size:\n",
    "        node[ ' right ' ] = to_terminal(right)\n",
    "    else:\n",
    "        node[ ' right ' ] = get_split(right)\n",
    "        split(node[ ' right ' ], max_depth, min_size, depth+1)"
   ]
  },
  {
   "cell_type": "code",
   "execution_count": 7,
   "metadata": {},
   "outputs": [],
   "source": [
    "# Make a prediction with a decision tree\n",
    "def predict(node, row):\n",
    "    if row[node[ ' index ' ]] < node[ ' value ' ]:\n",
    "        if isinstance(node[ ' left ' ], dict):\n",
    "            return predict(node[ ' left ' ], row)\n",
    "        else:\n",
    "            return node[ ' left ' ]\n",
    "    else:\n",
    "        if isinstance(node[ ' right ' ], dict):\n",
    "            return predict(node[ ' right ' ], row)\n",
    "        else:\n",
    "            return node[ ' right ' ]"
   ]
  },
  {
   "cell_type": "code",
   "execution_count": 8,
   "metadata": {},
   "outputs": [],
   "source": [
    "# Build a decision tree\n",
    "def build_tree(train, max_depth, min_size):\n",
    "    root = get_split(dataset)\n",
    "    print(root)\n",
    "    split(root, max_depth, min_size, 1)\n",
    "    return root"
   ]
  },
  {
   "cell_type": "code",
   "execution_count": 9,
   "metadata": {},
   "outputs": [],
   "source": [
    "# Print a decision tree\n",
    "def print_tree(node, depth=0):\n",
    "    if isinstance(node, dict):\n",
    "        print( ' %s[Var0%d == %s] ' % ((depth* ' ' , (node[ ' index ' ]+1), node[ ' value ' ])))\n",
    "        print_tree(node[ ' left ' ], depth+1)\n",
    "        print_tree(node[ ' right ' ], depth+1)\n",
    "    else:\n",
    "        print( ' %s[%s] ' % ((depth* ' ' , node)))"
   ]
  },
  {
   "cell_type": "code",
   "execution_count": 10,
   "metadata": {
    "scrolled": false
   },
   "outputs": [
    {
     "name": "stdout",
     "output_type": "stream",
     "text": [
      "[['White' 'Short' 'Round' 1]\n",
      " ['White' 'Short' 'Round' 1]\n",
      " ['Black' 'Short' 'Round' 1]\n",
      " ['White' 'Long' 'Round' 1]\n",
      " ['Black' 'Medium' 'Round' 1]\n",
      " ['White' 'Medium' 'Rectangular' 2]\n",
      " ['Pink' 'Long' 'Rectangular' 2]\n",
      " ['Pink' 'Short' 'Round' 2]\n",
      " ['White' 'Long' 'Rectangular' 2]\n",
      " ['White' 'Long' 'Rectangular' 2]]\n",
      "{' index ': 2, ' value ': 'Round', ' groups ': ([array(['White', 'Medium', 'Rectangular', 2], dtype=object), array(['Pink', 'Long', 'Rectangular', 2], dtype=object), array(['White', 'Long', 'Rectangular', 2], dtype=object), array(['White', 'Long', 'Rectangular', 2], dtype=object)], [array(['White', 'Short', 'Round', 1], dtype=object), array(['White', 'Short', 'Round', 1], dtype=object), array(['Black', 'Short', 'Round', 1], dtype=object), array(['White', 'Long', 'Round', 1], dtype=object), array(['Black', 'Medium', 'Round', 1], dtype=object), array(['Pink', 'Short', 'Round', 2], dtype=object)])}\n",
      " [Var03 == Round] \n",
      "  [Var01 == White] \n",
      "   [2] \n",
      "   [2] \n",
      "  [Var01 == Black] \n",
      "   [1] \n",
      "   [1] \n"
     ]
    }
   ],
   "source": [
    "data = pd.read_csv('Sample Dataset.csv')\n",
    "dataset= data.iloc[:, :4].values\n",
    "print(dataset)\n",
    "tree = build_tree(dataset,2, 1)\n",
    "print_tree(tree)\n",
    "#stump = { ' index ' : 2, ' right ' : 1, ' value ' : 'Round', ' left ' : 2}\n",
    "#for row in dataset:\n",
    "#    prediction = predict(stump, row)\n",
    "#    print( ' Expected=%d, Got=%d ' % (row[-1], prediction))"
   ]
  },
  {
   "cell_type": "code",
   "execution_count": null,
   "metadata": {},
   "outputs": [],
   "source": []
  }
 ],
 "metadata": {
  "kernelspec": {
   "display_name": "Python 3",
   "language": "python",
   "name": "python3"
  },
  "language_info": {
   "codemirror_mode": {
    "name": "ipython",
    "version": 3
   },
   "file_extension": ".py",
   "mimetype": "text/x-python",
   "name": "python",
   "nbconvert_exporter": "python",
   "pygments_lexer": "ipython3",
   "version": "3.7.3"
  }
 },
 "nbformat": 4,
 "nbformat_minor": 2
}
