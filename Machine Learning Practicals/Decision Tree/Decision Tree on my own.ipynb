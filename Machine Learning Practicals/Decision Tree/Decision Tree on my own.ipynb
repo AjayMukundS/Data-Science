{
 "cells": [
  {
   "cell_type": "code",
   "execution_count": 2,
   "metadata": {},
   "outputs": [],
   "source": [
    "import numpy as np\n",
    "import pandas as pd\n",
    "import AJ_DecisionTree as dt\n",
    "from leaf import leaf"
   ]
  },
  {
   "cell_type": "code",
   "execution_count": 3,
   "metadata": {},
   "outputs": [
    {
     "data": {
      "text/html": [
       "<div>\n",
       "<style scoped>\n",
       "    .dataframe tbody tr th:only-of-type {\n",
       "        vertical-align: middle;\n",
       "    }\n",
       "\n",
       "    .dataframe tbody tr th {\n",
       "        vertical-align: top;\n",
       "    }\n",
       "\n",
       "    .dataframe thead th {\n",
       "        text-align: right;\n",
       "    }\n",
       "</style>\n",
       "<table border=\"1\" class=\"dataframe\">\n",
       "  <thead>\n",
       "    <tr style=\"text-align: right;\">\n",
       "      <th></th>\n",
       "      <th>CustomerID</th>\n",
       "      <th>Gender</th>\n",
       "      <th>Age</th>\n",
       "      <th>Annual Income (k$)</th>\n",
       "      <th>Spending Score (1-100)</th>\n",
       "    </tr>\n",
       "  </thead>\n",
       "  <tbody>\n",
       "    <tr>\n",
       "      <td>0</td>\n",
       "      <td>138</td>\n",
       "      <td>Male</td>\n",
       "      <td>32</td>\n",
       "      <td>73</td>\n",
       "      <td>73</td>\n",
       "    </tr>\n",
       "    <tr>\n",
       "      <td>1</td>\n",
       "      <td>181</td>\n",
       "      <td>Female</td>\n",
       "      <td>37</td>\n",
       "      <td>97</td>\n",
       "      <td>32</td>\n",
       "    </tr>\n",
       "    <tr>\n",
       "      <td>2</td>\n",
       "      <td>131</td>\n",
       "      <td>Male</td>\n",
       "      <td>47</td>\n",
       "      <td>71</td>\n",
       "      <td>9</td>\n",
       "    </tr>\n",
       "    <tr>\n",
       "      <td>3</td>\n",
       "      <td>5</td>\n",
       "      <td>Female</td>\n",
       "      <td>31</td>\n",
       "      <td>17</td>\n",
       "      <td>40</td>\n",
       "    </tr>\n",
       "    <tr>\n",
       "      <td>4</td>\n",
       "      <td>200</td>\n",
       "      <td>Male</td>\n",
       "      <td>30</td>\n",
       "      <td>137</td>\n",
       "      <td>83</td>\n",
       "    </tr>\n",
       "  </tbody>\n",
       "</table>\n",
       "</div>"
      ],
      "text/plain": [
       "   CustomerID  Gender  Age  Annual Income (k$)  Spending Score (1-100)\n",
       "0         138    Male   32                  73                      73\n",
       "1         181  Female   37                  97                      32\n",
       "2         131    Male   47                  71                       9\n",
       "3           5  Female   31                  17                      40\n",
       "4         200    Male   30                 137                      83"
      ]
     },
     "execution_count": 3,
     "metadata": {},
     "output_type": "execute_result"
    }
   ],
   "source": [
    "data = pd.read_csv('/home/msc2/Documents/Academics 3rd Sem/MDSC-301/data/Mall_Customers_train.csv')\n",
    "\n",
    "data.head()"
   ]
  },
  {
   "cell_type": "code",
   "execution_count": 4,
   "metadata": {},
   "outputs": [
    {
     "data": {
      "text/html": [
       "<div>\n",
       "<style scoped>\n",
       "    .dataframe tbody tr th:only-of-type {\n",
       "        vertical-align: middle;\n",
       "    }\n",
       "\n",
       "    .dataframe tbody tr th {\n",
       "        vertical-align: top;\n",
       "    }\n",
       "\n",
       "    .dataframe thead th {\n",
       "        text-align: right;\n",
       "    }\n",
       "</style>\n",
       "<table border=\"1\" class=\"dataframe\">\n",
       "  <thead>\n",
       "    <tr style=\"text-align: right;\">\n",
       "      <th></th>\n",
       "      <th>Age</th>\n",
       "      <th>Annual Income (k$)</th>\n",
       "      <th>Spending Score (1-100)</th>\n",
       "    </tr>\n",
       "  </thead>\n",
       "  <tbody>\n",
       "    <tr>\n",
       "      <td>0</td>\n",
       "      <td>32</td>\n",
       "      <td>73</td>\n",
       "      <td>73</td>\n",
       "    </tr>\n",
       "    <tr>\n",
       "      <td>1</td>\n",
       "      <td>37</td>\n",
       "      <td>97</td>\n",
       "      <td>32</td>\n",
       "    </tr>\n",
       "    <tr>\n",
       "      <td>2</td>\n",
       "      <td>47</td>\n",
       "      <td>71</td>\n",
       "      <td>9</td>\n",
       "    </tr>\n",
       "    <tr>\n",
       "      <td>3</td>\n",
       "      <td>31</td>\n",
       "      <td>17</td>\n",
       "      <td>40</td>\n",
       "    </tr>\n",
       "    <tr>\n",
       "      <td>4</td>\n",
       "      <td>30</td>\n",
       "      <td>137</td>\n",
       "      <td>83</td>\n",
       "    </tr>\n",
       "  </tbody>\n",
       "</table>\n",
       "</div>"
      ],
      "text/plain": [
       "   Age  Annual Income (k$)  Spending Score (1-100)\n",
       "0   32                  73                      73\n",
       "1   37                  97                      32\n",
       "2   47                  71                       9\n",
       "3   31                  17                      40\n",
       "4   30                 137                      83"
      ]
     },
     "execution_count": 4,
     "metadata": {},
     "output_type": "execute_result"
    }
   ],
   "source": [
    "in_data = data[['Age', 'Annual Income (k$)', 'Spending Score (1-100)']]\n",
    "out_data = data[['Gender']]\n",
    "\n",
    "in_data.head()"
   ]
  },
  {
   "cell_type": "code",
   "execution_count": 5,
   "metadata": {},
   "outputs": [
    {
     "data": {
      "text/plain": [
       "['Age', 'Annual Income (k$)', 'Spending Score (1-100)']"
      ]
     },
     "execution_count": 5,
     "metadata": {},
     "output_type": "execute_result"
    }
   ],
   "source": [
    "in_cols = list(in_data.columns)\n",
    "\n",
    "in_cols"
   ]
  },
  {
   "cell_type": "code",
   "execution_count": 6,
   "metadata": {},
   "outputs": [
    {
     "data": {
      "text/plain": [
       "0.4921875"
      ]
     },
     "execution_count": 6,
     "metadata": {},
     "output_type": "execute_result"
    }
   ],
   "source": [
    "data_male = data[data['Gender'] == 'Male']\n",
    "data_female = data[data['Gender'] == 'Female']\n",
    "\n",
    "p_male = data_male.shape[0]/data.shape[0]\n",
    "p_female = data_female.shape[0]/data.shape[0]\n",
    "\n",
    "E = 1 - p_male**2 - p_female**2\n",
    "\n",
    "E"
   ]
  },
  {
   "cell_type": "code",
   "execution_count": 7,
   "metadata": {},
   "outputs": [
    {
     "data": {
      "text/plain": [
       "array([18, 19, 20, 21, 22, 23, 24, 25, 26, 27, 28, 29, 30, 31, 32, 33, 34,\n",
       "       35, 36, 37, 38, 39, 40, 41, 42, 43, 44, 45, 46, 47, 48, 49, 50, 51,\n",
       "       52, 53, 54, 55, 57, 58, 59, 60, 63, 64, 65, 66, 67, 68, 69, 70])"
      ]
     },
     "execution_count": 7,
     "metadata": {},
     "output_type": "execute_result"
    }
   ],
   "source": [
    "Age_values = np.sort(data['Age'].unique())\n",
    "Income_values = np.sort(data['Annual Income (k$)'].unique())\n",
    "Spending_values = np.sort(data['Spending Score (1-100)'].unique())\n",
    "\n",
    "Age_values"
   ]
  },
  {
   "cell_type": "code",
   "execution_count": 8,
   "metadata": {},
   "outputs": [
    {
     "data": {
      "text/plain": [
       "array([18.5, 19.5, 20.5, 21.5, 22.5, 23.5, 24.5, 25.5, 26.5, 27.5, 28.5,\n",
       "       29.5, 30.5, 31.5, 32.5, 33.5, 34.5, 35.5, 36.5, 37.5, 38.5, 39.5,\n",
       "       40.5, 41.5, 42.5, 43.5, 44.5, 45.5, 46.5, 47.5, 48.5, 49.5, 50.5,\n",
       "       51.5, 52.5, 53.5, 54.5, 56. , 57.5, 58.5, 59.5, 61.5, 63.5, 64.5,\n",
       "       65.5, 66.5, 67.5, 68.5, 69.5])"
      ]
     },
     "execution_count": 8,
     "metadata": {},
     "output_type": "execute_result"
    }
   ],
   "source": [
    "partitions = {}\n",
    "\n",
    "partitions[in_cols[0]] = dt.axis_partitions(Age_values)\n",
    "partitions[in_cols[1]] = dt.axis_partitions(Income_values)\n",
    "partitions[in_cols[2]] = dt.axis_partitions(Spending_values)\n",
    "\n",
    "partitions[in_cols[0]]"
   ]
  },
  {
   "cell_type": "code",
   "execution_count": 9,
   "metadata": {},
   "outputs": [
    {
     "data": {
      "text/plain": [
       "0.002007032908704909"
      ]
     },
     "execution_count": 9,
     "metadata": {},
     "output_type": "execute_result"
    }
   ],
   "source": [
    "data_filt1 = data[data['Age'] < partitions[in_cols[0]][0]]\n",
    "data_filt2 = data[data['Age'] > partitions[in_cols[0]][0]]\n",
    "\n",
    "data_filt1_male = data_filt1[data_filt1['Gender'] == 'Male']\n",
    "data_filt1_female = data_filt1[data_filt1['Gender'] == 'Female']\n",
    "\n",
    "data_filt2_male = data_filt2[data_filt2['Gender'] == 'Male']\n",
    "data_filt2_female = data_filt2[data_filt2['Gender'] == 'Female']\n",
    "\n",
    "p1 = data_filt1.shape[0]/data.shape[0]\n",
    "p2 = data_filt2.shape[0]/data.shape[0]\n",
    "\n",
    "p1_male = data_filt1_male.shape[0]/data_filt1.shape[0]\n",
    "p1_female = data_filt1_female.shape[0]/data_filt1.shape[0]\n",
    "\n",
    "p2_male = data_filt2_male.shape[0]/data_filt2.shape[0]\n",
    "p2_female = data_filt2_female.shape[0]/data_filt2.shape[0]\n",
    "\n",
    "E1 = 1 - p1_male**2 - p1_female**2\n",
    "E2 = 1 - p2_male**2 - p2_female**2\n",
    "\n",
    "dE = E - p1*E1 - p2*E2\n",
    "\n",
    "dE"
   ]
  },
  {
   "cell_type": "code",
   "execution_count": 10,
   "metadata": {},
   "outputs": [
    {
     "name": "stdout",
     "output_type": "stream",
     "text": [
      "Age dE =  [2.00703291e-03 1.75208333e-02 2.32540362e-02 1.71257970e-02\n",
      " 1.01512925e-02 2.38267613e-03 2.66508285e-03 1.65719697e-03\n",
      " 2.81529679e-03 1.30178571e-03 2.43340164e-03 1.06562752e-03\n",
      " 3.72023810e-04 9.22650245e-04 7.99020209e-04 6.19939271e-05\n",
      " 1.11980411e-05 8.91145752e-04 2.58462320e-03 1.50122549e-03\n",
      " 1.79067460e-03 1.51711202e-04 5.14318631e-06 1.87500000e-04\n",
      " 1.17993791e-05 1.33069324e-06 3.04383117e-04 1.15858094e-03\n",
      " 1.02452105e-03 1.34081808e-03 1.39758497e-05 1.44370743e-03\n",
      " 3.13357492e-03 5.90968055e-03 5.77660240e-03 4.09226190e-03\n",
      " 7.50612745e-03 9.84062599e-03 9.95899709e-03 1.01512925e-02\n",
      " 5.40222645e-03 8.08769569e-03 8.51632883e-03 5.83911684e-03\n",
      " 6.26034768e-03 3.70065789e-03 1.70362903e-03 8.01028481e-03\n",
      " 3.97995283e-03] \n",
      "\n",
      "Max =  0.023254036203522566 \n",
      "\n",
      "Age Partition point =  20.5\n"
     ]
    }
   ],
   "source": [
    "dE = {}\n",
    "\n",
    "dE[in_cols[0]] = np.zeros((partitions[in_cols[0]].shape[0],))\n",
    "for i in range(partitions[in_cols[0]].shape[0]):\n",
    "    data_filt1 = data[data['Age'] < partitions[in_cols[0]][i]]\n",
    "    data_filt2 = data[data['Age'] > partitions[in_cols[0]][i]]\n",
    "\n",
    "    data_filt1_male = data_filt1[data_filt1['Gender'] == 'Male']\n",
    "    data_filt1_female = data_filt1[data_filt1['Gender'] == 'Female']\n",
    "\n",
    "    data_filt2_male = data_filt2[data_filt2['Gender'] == 'Male']\n",
    "    data_filt2_female = data_filt2[data_filt2['Gender'] == 'Female']\n",
    "\n",
    "    p1 = data_filt1.shape[0]/data.shape[0]\n",
    "    p2 = data_filt2.shape[0]/data.shape[0]\n",
    "\n",
    "    p1_male = data_filt1_male.shape[0]/data_filt1.shape[0]\n",
    "    p1_female = data_filt1_female.shape[0]/data_filt1.shape[0]\n",
    "\n",
    "    p2_male = data_filt2_male.shape[0]/data_filt2.shape[0]\n",
    "    p2_female = data_filt2_female.shape[0]/data_filt2.shape[0]\n",
    "\n",
    "    E1 = 1 - p1_male**2 - p1_female**2\n",
    "    E2 = 1 - p2_male**2 - p2_female**2\n",
    "\n",
    "    dE[in_cols[0]][i] = E - p1*E1 - p2*E2\n",
    "\n",
    "print('Age dE = ', dE[in_cols[0]], '\\n\\nMax = ', np.max(dE[in_cols[0]]), '\\n\\nAge Partition point = ',\n",
    "      partitions[in_cols[0]][np.argmax(dE[in_cols[0]])])"
   ]
  },
  {
   "cell_type": "code",
   "execution_count": 11,
   "metadata": {},
   "outputs": [
    {
     "name": "stdout",
     "output_type": "stream",
     "text": [
      "Income dE =  [8.01028481e-03 2.00703291e-03 9.07258065e-05 2.10813492e-03\n",
      " 2.52083333e-03 2.98027865e-03 2.24497126e-03 1.70004628e-03\n",
      " 2.75088028e-03 1.73954216e-03 3.82965686e-03 3.23801665e-03\n",
      " 2.73944805e-03 5.00801282e-03 4.39453125e-03 6.30040323e-03\n",
      " 1.08620073e-02 9.99340285e-03 1.08003527e-02 1.00174008e-02\n",
      " 5.46022727e-03 8.03507835e-03 5.28152146e-03 6.47079953e-03\n",
      " 9.18750000e-03 1.92434211e-03 3.52195675e-03 4.49568414e-03\n",
      " 5.58533405e-03 6.01528127e-03 4.56004902e-03 3.69320402e-03\n",
      " 8.29863294e-04 7.10227273e-04 2.51955925e-03 4.11057692e-03\n",
      " 3.86725781e-03 4.94260204e-03 8.92706220e-04 2.14629121e-03\n",
      " 1.80288462e-03 1.64204545e-03 1.48809524e-03 3.15241228e-03\n",
      " 2.96336207e-03 2.10813492e-03 3.13357492e-03 2.97144599e-03\n",
      " 2.81529679e-03 1.65719697e-03 2.47937163e-06 7.29050019e-05\n",
      " 1.70004628e-03 2.90948276e-04 1.23838063e-03 1.75957207e-03\n",
      " 2.52083333e-03 7.29458450e-06 9.07258065e-05 2.00703291e-03\n",
      " 3.97995283e-03] \n",
      "\n",
      "Max =  0.010862007310871002 \n",
      "\n",
      "Income Partition point =  41.0\n"
     ]
    }
   ],
   "source": [
    "dE[in_cols[1]] = np.zeros((partitions[in_cols[1]].shape[0],))\n",
    "for i in range(partitions[in_cols[1]].shape[0]):\n",
    "    data_filt1 = data[data['Annual Income (k$)'] < partitions[in_cols[1]][i]]\n",
    "    data_filt2 = data[data['Annual Income (k$)'] > partitions[in_cols[1]][i]]\n",
    "\n",
    "    data_filt1_male = data_filt1[data_filt1['Gender'] == 'Male']\n",
    "    data_filt1_female = data_filt1[data_filt1['Gender'] == 'Female']\n",
    "\n",
    "    data_filt2_male = data_filt2[data_filt2['Gender'] == 'Male']\n",
    "    data_filt2_female = data_filt2[data_filt2['Gender'] == 'Female']\n",
    "\n",
    "    p1 = data_filt1.shape[0]/data.shape[0]\n",
    "    p2 = data_filt2.shape[0]/data.shape[0]\n",
    "\n",
    "    p1_male = data_filt1_male.shape[0]/data_filt1.shape[0]\n",
    "    p1_female = data_filt1_female.shape[0]/data_filt1.shape[0]\n",
    "\n",
    "    p2_male = data_filt2_male.shape[0]/data_filt2.shape[0]\n",
    "    p2_female = data_filt2_female.shape[0]/data_filt2.shape[0]\n",
    "\n",
    "    E1 = 1 - p1_male**2 - p1_female**2\n",
    "    E2 = 1 - p2_male**2 - p2_female**2\n",
    "\n",
    "    dE[in_cols[1]][i] = E - p1*E1 - p2*E2\n",
    "\n",
    "print('Income dE = ', dE[in_cols[1]], '\\n\\nMax = ', np.max(dE[in_cols[1]]), '\\n\\nIncome Partition point = ',\n",
    "      partitions[in_cols[1]][np.argmax(dE[in_cols[1]])])"
   ]
  },
  {
   "cell_type": "code",
   "execution_count": 12,
   "metadata": {},
   "outputs": [
    {
     "name": "stdout",
     "output_type": "stream",
     "text": [
      "Spending dE =  [8.01028481e-03 1.20919586e-02 1.62259615e-02 1.02796053e-02\n",
      " 6.26034768e-03 3.52083333e-03 5.83911684e-03 8.51632883e-03\n",
      " 1.46923924e-02 1.71257970e-02 1.29017857e-02 1.54737583e-02\n",
      " 1.24080882e-02 1.22793485e-02 1.22091450e-02 9.79081666e-03\n",
      " 7.70032051e-03 7.81250000e-03 6.05650501e-03 3.30178571e-03\n",
      " 4.73230287e-03 3.47622775e-03 1.59097531e-03 9.37500000e-04\n",
      " 1.57637207e-04 1.20003918e-03 1.34081808e-03 1.16347215e-04\n",
      " 5.56445869e-04 2.99405979e-04 5.20833333e-04 9.43088674e-04\n",
      " 1.02479757e-04 1.99808184e-05 1.23012124e-06 1.76221805e-04\n",
      " 9.88924051e-05 4.88586617e-06 4.41939032e-05 7.89141414e-05\n",
      " 5.03707286e-06 4.16598091e-04 1.56534608e-04 1.17993791e-05\n",
      " 1.36486723e-04 2.00320513e-04 2.78409091e-04 7.59847858e-04\n",
      " 3.72023810e-04 9.19377236e-04 1.72220633e-03 1.98373824e-03\n",
      " 1.30596551e-03 3.60281308e-04 1.68518119e-04 2.52016129e-04\n",
      " 1.22100838e-03 6.49038462e-04 1.95802005e-05 2.24239380e-04\n",
      " 6.68981481e-04 1.53186275e-04 2.47937163e-06 2.40878726e-05\n",
      " 4.46428571e-05 9.90316901e-04 3.47222222e-03 3.43994618e-03\n",
      " 5.59670984e-03 1.72075198e-03 1.66137785e-03 7.29458450e-06\n",
      " 9.07258065e-05 2.00320513e-04 4.14676221e-04 4.84572785e-03\n",
      " 2.40762579e-03] \n",
      "\n",
      "Max =  0.017125796997120468 \n",
      "\n",
      "Spending Partition point =  13.5\n"
     ]
    }
   ],
   "source": [
    "dE[in_cols[2]] = np.zeros((partitions[in_cols[2]].shape[0],))\n",
    "for i in range(partitions[in_cols[2]].shape[0]):\n",
    "    data_filt1 = data[data['Spending Score (1-100)'] < partitions[in_cols[2]][i]]\n",
    "    data_filt2 = data[data['Spending Score (1-100)'] > partitions[in_cols[2]][i]]\n",
    "\n",
    "    data_filt1_male = data_filt1[data_filt1['Gender'] == 'Male']\n",
    "    data_filt1_female = data_filt1[data_filt1['Gender'] == 'Female']\n",
    "\n",
    "    data_filt2_male = data_filt2[data_filt2['Gender'] == 'Male']\n",
    "    data_filt2_female = data_filt2[data_filt2['Gender'] == 'Female']\n",
    "\n",
    "    p1 = data_filt1.shape[0]/data.shape[0]\n",
    "    p2 = data_filt2.shape[0]/data.shape[0]\n",
    "\n",
    "    p1_male = data_filt1_male.shape[0]/data_filt1.shape[0]\n",
    "    p1_female = data_filt1_female.shape[0]/data_filt1.shape[0]\n",
    "\n",
    "    p2_male = data_filt2_male.shape[0]/data_filt2.shape[0]\n",
    "    p2_female = data_filt2_female.shape[0]/data_filt2.shape[0]\n",
    "\n",
    "    E1 = 1 - p1_male**2 - p1_female**2\n",
    "    E2 = 1 - p2_male**2 - p2_female**2\n",
    "\n",
    "    dE[in_cols[2]][i] = E - p1*E1 - p2*E2\n",
    "\n",
    "print('Spending dE = ', dE[in_cols[2]], '\\n\\nMax = ', np.max(dE[in_cols[2]]), '\\n\\nSpending Partition point = ',\n",
    "      partitions[in_cols[2]][np.argmax(dE[in_cols[2]])])"
   ]
  },
  {
   "cell_type": "code",
   "execution_count": 13,
   "metadata": {},
   "outputs": [
    {
     "data": {
      "text/plain": [
       "{('Age', 20.5): (0.023254036203522566, 2),\n",
       " ('Annual Income (k$)', 41.0): (0.010862007310871002, 16),\n",
       " ('Spending Score (1-100)', 13.5): (0.017125796997120468, 9)}"
      ]
     },
     "execution_count": 13,
     "metadata": {},
     "output_type": "execute_result"
    }
   ],
   "source": [
    "possible_partitions = {}\n",
    "\n",
    "for i in range(len(in_cols)):\n",
    "    part_idx = np.argmax(dE[in_cols[i]])\n",
    "    possible_partitions[(in_cols[i], partitions[in_cols[i]][part_idx])] = (dE[in_cols[i]][part_idx], part_idx)\n",
    "\n",
    "possible_partitions"
   ]
  },
  {
   "cell_type": "code",
   "execution_count": 14,
   "metadata": {},
   "outputs": [
    {
     "data": {
      "text/plain": [
       "{'max_feat': ('Age', 20.5), 'part_idx': 2}"
      ]
     },
     "execution_count": 14,
     "metadata": {},
     "output_type": "execute_result"
    }
   ],
   "source": [
    "max_feat = dt.get_max_feat(possible_partitions)\n",
    "\n",
    "max_feat"
   ]
  },
  {
   "cell_type": "code",
   "execution_count": 15,
   "metadata": {},
   "outputs": [
    {
     "name": "stdout",
     "output_type": "stream",
     "text": [
      "if Age below 20.5 : Male = 78.57142857142857 %, Female = 21.428571428571427 %\n",
      "if Age above 20.5 : Male = 40.41095890410959 %, Female = 59.589041095890416 %\n"
     ]
    }
   ],
   "source": [
    "data_parts = dt.data_split(data, max_feat['max_feat'][0], max_feat['max_feat'][1])\n",
    "\n",
    "target= 0\n",
    "\n",
    "index= data.columns\n",
    "for i in range(len(index)):\n",
    "    if index[i]== 'Gender':\n",
    "        target= i\n",
    "\n",
    "data_part1_male= []\n",
    "data_part1_female= []\n",
    "data_part2_male= []\n",
    "data_part2_female= []\n",
    "\n",
    "for i in range(len(data_parts[0])):\n",
    "    if(data_parts[0][i][target]== 'Male'):\n",
    "        data_part1_male.append(data_parts[0][i])\n",
    "    else:\n",
    "        data_part1_female.append(data_parts[0][i])\n",
    "        \n",
    "for i in range(len(data_parts[1])):\n",
    "    if(data_parts[1][i][target]== 'Male'):\n",
    "        data_part2_male.append(data_parts[1][i])\n",
    "    else:\n",
    "        data_part2_female.append(data_parts[1][i])\n",
    "\n",
    "p1 = len(data_parts[0])/data.shape[0]\n",
    "p2 = len(data_parts[1])/data.shape[0]\n",
    "\n",
    "p1_male = len(data_part1_male)/len(data_parts[0])\n",
    "p1_female = len(data_part1_female)/len(data_parts[0])\n",
    "\n",
    "p2_male = len(data_part2_male)/len(data_parts[1])\n",
    "p2_female = len(data_part2_female)/len(data_parts[1])\n",
    "\n",
    "print('if Age below', max_feat['max_feat'][1], ': Male =', p1_male*100, '%, Female =', p1_female*100, '%')\n",
    "print('if Age above', max_feat['max_feat'][1], ': Male =', p2_male*100, '%, Female =', p2_female*100, '%')"
   ]
  },
  {
   "cell_type": "code",
   "execution_count": 16,
   "metadata": {},
   "outputs": [
    {
     "data": {
      "text/plain": [
       "{'Male': <leaf.leaf at 0x7f95ae5c69e8>,\n",
       " 'Female': <leaf.leaf at 0x7f95ae46f0b8>}"
      ]
     },
     "execution_count": 16,
     "metadata": {},
     "output_type": "execute_result"
    }
   ],
   "source": [
    "categories = list(data['Gender'].unique())\n",
    "\n",
    "classes = {}\n",
    "for i in range(len(categories)):\n",
    "    classes[categories[i]] = leaf(categories[i])\n",
    "\n",
    "classes"
   ]
  },
  {
   "cell_type": "code",
   "execution_count": 17,
   "metadata": {},
   "outputs": [
    {
     "data": {
      "text/plain": [
       "{('Age', 20.5): {'T': ('pclass', 'Male'), 'F': ('pclass', 'Female')}}"
      ]
     },
     "execution_count": 17,
     "metadata": {},
     "output_type": "execute_result"
    }
   ],
   "source": [
    "tree_predict = {}\n",
    "\n",
    "pL = np.array([p1_male, p1_female])\n",
    "pR = np.array([p2_male, p2_female])\n",
    "dt.add_stump(tree_predict, max_feat['max_feat'], pL, pR, categories)\n",
    "\n",
    "tree_predict"
   ]
  },
  {
   "cell_type": "code",
   "execution_count": 18,
   "metadata": {},
   "outputs": [
    {
     "data": {
      "text/plain": [
       "{'Age < 20.5': {'T': <leaf.leaf at 0x7f95ae5c69e8>,\n",
       "  'F': <leaf.leaf at 0x7f95ae46f0b8>}}"
      ]
     },
     "execution_count": 18,
     "metadata": {},
     "output_type": "execute_result"
    }
   ],
   "source": [
    "tree = dt.to_plot_tree(tree_predict, classes)\n",
    "\n",
    "tree"
   ]
  },
  {
   "cell_type": "code",
   "execution_count": 19,
   "metadata": {},
   "outputs": [],
   "source": [
    "dt.plot(tree, 'Mall_Customer_Tree')"
   ]
  },
  {
   "cell_type": "code",
   "execution_count": 20,
   "metadata": {},
   "outputs": [
    {
     "data": {
      "text/html": [
       "<div>\n",
       "<style scoped>\n",
       "    .dataframe tbody tr th:only-of-type {\n",
       "        vertical-align: middle;\n",
       "    }\n",
       "\n",
       "    .dataframe tbody tr th {\n",
       "        vertical-align: top;\n",
       "    }\n",
       "\n",
       "    .dataframe thead th {\n",
       "        text-align: right;\n",
       "    }\n",
       "</style>\n",
       "<table border=\"1\" class=\"dataframe\">\n",
       "  <thead>\n",
       "    <tr style=\"text-align: right;\">\n",
       "      <th></th>\n",
       "      <th>0</th>\n",
       "      <th>1</th>\n",
       "      <th>2</th>\n",
       "      <th>3</th>\n",
       "      <th>4</th>\n",
       "    </tr>\n",
       "  </thead>\n",
       "  <tbody>\n",
       "    <tr>\n",
       "      <td>0</td>\n",
       "      <td>112</td>\n",
       "      <td>Female</td>\n",
       "      <td>19</td>\n",
       "      <td>63</td>\n",
       "      <td>54</td>\n",
       "    </tr>\n",
       "    <tr>\n",
       "      <td>1</td>\n",
       "      <td>139</td>\n",
       "      <td>Male</td>\n",
       "      <td>19</td>\n",
       "      <td>74</td>\n",
       "      <td>10</td>\n",
       "    </tr>\n",
       "    <tr>\n",
       "      <td>2</td>\n",
       "      <td>115</td>\n",
       "      <td>Female</td>\n",
       "      <td>18</td>\n",
       "      <td>65</td>\n",
       "      <td>48</td>\n",
       "    </tr>\n",
       "    <tr>\n",
       "      <td>3</td>\n",
       "      <td>18</td>\n",
       "      <td>Male</td>\n",
       "      <td>20</td>\n",
       "      <td>21</td>\n",
       "      <td>66</td>\n",
       "    </tr>\n",
       "    <tr>\n",
       "      <td>4</td>\n",
       "      <td>69</td>\n",
       "      <td>Male</td>\n",
       "      <td>19</td>\n",
       "      <td>48</td>\n",
       "      <td>59</td>\n",
       "    </tr>\n",
       "    <tr>\n",
       "      <td>5</td>\n",
       "      <td>40</td>\n",
       "      <td>Female</td>\n",
       "      <td>20</td>\n",
       "      <td>37</td>\n",
       "      <td>75</td>\n",
       "    </tr>\n",
       "    <tr>\n",
       "      <td>6</td>\n",
       "      <td>34</td>\n",
       "      <td>Male</td>\n",
       "      <td>18</td>\n",
       "      <td>33</td>\n",
       "      <td>92</td>\n",
       "    </tr>\n",
       "    <tr>\n",
       "      <td>7</td>\n",
       "      <td>114</td>\n",
       "      <td>Male</td>\n",
       "      <td>19</td>\n",
       "      <td>64</td>\n",
       "      <td>46</td>\n",
       "    </tr>\n",
       "    <tr>\n",
       "      <td>8</td>\n",
       "      <td>1</td>\n",
       "      <td>Male</td>\n",
       "      <td>19</td>\n",
       "      <td>15</td>\n",
       "      <td>39</td>\n",
       "    </tr>\n",
       "    <tr>\n",
       "      <td>9</td>\n",
       "      <td>135</td>\n",
       "      <td>Male</td>\n",
       "      <td>20</td>\n",
       "      <td>73</td>\n",
       "      <td>5</td>\n",
       "    </tr>\n",
       "    <tr>\n",
       "      <td>10</td>\n",
       "      <td>62</td>\n",
       "      <td>Male</td>\n",
       "      <td>19</td>\n",
       "      <td>46</td>\n",
       "      <td>55</td>\n",
       "    </tr>\n",
       "    <tr>\n",
       "      <td>11</td>\n",
       "      <td>66</td>\n",
       "      <td>Male</td>\n",
       "      <td>18</td>\n",
       "      <td>48</td>\n",
       "      <td>59</td>\n",
       "    </tr>\n",
       "    <tr>\n",
       "      <td>12</td>\n",
       "      <td>100</td>\n",
       "      <td>Male</td>\n",
       "      <td>20</td>\n",
       "      <td>61</td>\n",
       "      <td>49</td>\n",
       "    </tr>\n",
       "    <tr>\n",
       "      <td>13</td>\n",
       "      <td>163</td>\n",
       "      <td>Male</td>\n",
       "      <td>19</td>\n",
       "      <td>81</td>\n",
       "      <td>5</td>\n",
       "    </tr>\n",
       "  </tbody>\n",
       "</table>\n",
       "</div>"
      ],
      "text/plain": [
       "      0       1   2   3   4\n",
       "0   112  Female  19  63  54\n",
       "1   139    Male  19  74  10\n",
       "2   115  Female  18  65  48\n",
       "3    18    Male  20  21  66\n",
       "4    69    Male  19  48  59\n",
       "5    40  Female  20  37  75\n",
       "6    34    Male  18  33  92\n",
       "7   114    Male  19  64  46\n",
       "8     1    Male  19  15  39\n",
       "9   135    Male  20  73   5\n",
       "10   62    Male  19  46  55\n",
       "11   66    Male  18  48  59\n",
       "12  100    Male  20  61  49\n",
       "13  163    Male  19  81   5"
      ]
     },
     "execution_count": 20,
     "metadata": {},
     "output_type": "execute_result"
    }
   ],
   "source": [
    "pd.DataFrame(data_parts[0])"
   ]
  },
  {
   "cell_type": "code",
   "execution_count": 21,
   "metadata": {},
   "outputs": [
    {
     "data": {
      "text/plain": [
       "0.33673469387755106"
      ]
     },
     "execution_count": 21,
     "metadata": {},
     "output_type": "execute_result"
    }
   ],
   "source": [
    "data_0_male= data_part1_male\n",
    "data_0_female= data_part1_female\n",
    "#for i in range(len(data_parts[0])):\n",
    "#    if(data_parts[0][i][target]== 'Male'):\n",
    "#        data_0_male.append(data_parts[0][i])\n",
    "#    else:\n",
    "#        data_1_female.append(data_parts[0][i])\n",
    "#\n",
    "#data_0_male = data_parts[0][data_parts[0]['Gender'] == 'Male']\n",
    "#data_0_female = data_parts[0][data_parts[0]['Gender'] == 'Female']\n",
    "\n",
    "p_male = len(data_0_male)/len(data_parts[0])\n",
    "p_female = len(data_0_female)/len(data_parts[0])\n",
    "\n",
    "E = 1 - p_male**2 - p_female**2\n",
    "\n",
    "E"
   ]
  },
  {
   "cell_type": "code",
   "execution_count": 22,
   "metadata": {},
   "outputs": [
    {
     "data": {
      "text/plain": [
       "array([ 5, 10, 39, 46, 48, 49, 54, 55, 59, 66, 75, 92])"
      ]
     },
     "execution_count": 22,
     "metadata": {},
     "output_type": "execute_result"
    }
   ],
   "source": [
    "data_part0= pd.DataFrame(data_parts[0])\n",
    "index= data.columns\n",
    "for i in range(len(index)):\n",
    "    if index[i]== 'Age':\n",
    "        column= i\n",
    "Age_values = np.sort(data_part0[column].unique())\n",
    "for i in range(len(index)):\n",
    "    if index[i]== 'Annual Income (k$)':\n",
    "        column= i\n",
    "Income_values = np.sort(data_part0[column].unique())\n",
    "for i in range(len(index)):\n",
    "    if index[i]== 'Spending Score (1-100)':\n",
    "        column= i\n",
    "Spending_values = np.sort(data_part0[column].unique())\n",
    "\n",
    "Spending_values"
   ]
  },
  {
   "cell_type": "code",
   "execution_count": 23,
   "metadata": {},
   "outputs": [
    {
     "data": {
      "text/plain": [
       "array([18.5, 19.5])"
      ]
     },
     "execution_count": 23,
     "metadata": {},
     "output_type": "execute_result"
    }
   ],
   "source": [
    "partitions = {}\n",
    "\n",
    "partitions[in_cols[0]] = dt.axis_partitions(Age_values)\n",
    "partitions[in_cols[1]] = dt.axis_partitions(Income_values)\n",
    "partitions[in_cols[2]] = dt.axis_partitions(Spending_values)\n",
    "\n",
    "partitions[in_cols[0]]"
   ]
  },
  {
   "cell_type": "code",
   "execution_count": null,
   "metadata": {},
   "outputs": [],
   "source": []
  }
 ],
 "metadata": {
  "kernelspec": {
   "display_name": "Python 3",
   "language": "python",
   "name": "python3"
  },
  "language_info": {
   "codemirror_mode": {
    "name": "ipython",
    "version": 3
   },
   "file_extension": ".py",
   "mimetype": "text/x-python",
   "name": "python",
   "nbconvert_exporter": "python",
   "pygments_lexer": "ipython3",
   "version": "3.7.3"
  }
 },
 "nbformat": 4,
 "nbformat_minor": 2
}
