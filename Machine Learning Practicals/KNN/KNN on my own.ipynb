{
 "cells": [
  {
   "cell_type": "code",
   "execution_count": 1,
   "metadata": {},
   "outputs": [],
   "source": [
    "import knn as knn\n",
    "import pandas as pd\n",
    "import numpy as np\n",
    "import cross_validation as cv"
   ]
  },
  {
   "cell_type": "code",
   "execution_count": 2,
   "metadata": {},
   "outputs": [
    {
     "data": {
      "text/html": [
       "<div>\n",
       "<style scoped>\n",
       "    .dataframe tbody tr th:only-of-type {\n",
       "        vertical-align: middle;\n",
       "    }\n",
       "\n",
       "    .dataframe tbody tr th {\n",
       "        vertical-align: top;\n",
       "    }\n",
       "\n",
       "    .dataframe thead th {\n",
       "        text-align: right;\n",
       "    }\n",
       "</style>\n",
       "<table border=\"1\" class=\"dataframe\">\n",
       "  <thead>\n",
       "    <tr style=\"text-align: right;\">\n",
       "      <th></th>\n",
       "      <th>CustomerID</th>\n",
       "      <th>Gender</th>\n",
       "      <th>Age</th>\n",
       "      <th>Annual Income (k$)</th>\n",
       "      <th>Spending Score (1-100)</th>\n",
       "    </tr>\n",
       "  </thead>\n",
       "  <tbody>\n",
       "    <tr>\n",
       "      <td>0</td>\n",
       "      <td>138</td>\n",
       "      <td>Male</td>\n",
       "      <td>32</td>\n",
       "      <td>73</td>\n",
       "      <td>73</td>\n",
       "    </tr>\n",
       "    <tr>\n",
       "      <td>1</td>\n",
       "      <td>181</td>\n",
       "      <td>Female</td>\n",
       "      <td>37</td>\n",
       "      <td>97</td>\n",
       "      <td>32</td>\n",
       "    </tr>\n",
       "    <tr>\n",
       "      <td>2</td>\n",
       "      <td>131</td>\n",
       "      <td>Male</td>\n",
       "      <td>47</td>\n",
       "      <td>71</td>\n",
       "      <td>9</td>\n",
       "    </tr>\n",
       "    <tr>\n",
       "      <td>3</td>\n",
       "      <td>5</td>\n",
       "      <td>Female</td>\n",
       "      <td>31</td>\n",
       "      <td>17</td>\n",
       "      <td>40</td>\n",
       "    </tr>\n",
       "    <tr>\n",
       "      <td>4</td>\n",
       "      <td>200</td>\n",
       "      <td>Male</td>\n",
       "      <td>30</td>\n",
       "      <td>137</td>\n",
       "      <td>83</td>\n",
       "    </tr>\n",
       "  </tbody>\n",
       "</table>\n",
       "</div>"
      ],
      "text/plain": [
       "   CustomerID  Gender  Age  Annual Income (k$)  Spending Score (1-100)\n",
       "0         138    Male   32                  73                      73\n",
       "1         181  Female   37                  97                      32\n",
       "2         131    Male   47                  71                       9\n",
       "3           5  Female   31                  17                      40\n",
       "4         200    Male   30                 137                      83"
      ]
     },
     "execution_count": 2,
     "metadata": {},
     "output_type": "execute_result"
    }
   ],
   "source": [
    "data= pd.read_csv(\"/home/msc2/Documents/Academics 3rd Sem/MDSC-301/data/Mall_Customers_train.csv\")\n",
    "data.head()"
   ]
  },
  {
   "cell_type": "code",
   "execution_count": 3,
   "metadata": {},
   "outputs": [
    {
     "name": "stderr",
     "output_type": "stream",
     "text": [
      "/home/msc2/anaconda3/lib/python3.7/site-packages/ipykernel_launcher.py:9: SettingWithCopyWarning: \n",
      "A value is trying to be set on a copy of a slice from a DataFrame.\n",
      "Try using .loc[row_indexer,col_indexer] = value instead\n",
      "\n",
      "See the caveats in the documentation: http://pandas.pydata.org/pandas-docs/stable/user_guide/indexing.html#returning-a-view-versus-a-copy\n",
      "  if __name__ == '__main__':\n"
     ]
    }
   ],
   "source": [
    "data_model_in = data[['Gender', 'Age', 'Annual Income (k$)']]\n",
    "\n",
    "def cat_to_num(s):\n",
    "    if s == 'Male':\n",
    "        return 1\n",
    "    elif s == 'Female':\n",
    "        return 0\n",
    "\n",
    "data_model_in['Gender_num'] = data_model_in['Gender'].apply(cat_to_num)"
   ]
  },
  {
   "cell_type": "code",
   "execution_count": 4,
   "metadata": {},
   "outputs": [],
   "source": [
    "out= knn.normalize(data_model_in['Gender_num'])\n",
    "data_model_in['Gender_norm']= out['norm_data']\n",
    "Gender_mean= out['mean']\n",
    "Gender_std= out['std']\n",
    "\n",
    "out= knn.normalize(data_model_in['Annual Income (k$)'])\n",
    "data_model_in['AnnualIncome_norm']= out['norm_data']\n",
    "AnnualIncome_mean= out['mean']\n",
    "AnnualIncome_std= out['std']\n",
    "\n",
    "out= knn.normalize(data_model_in['Age'])\n",
    "data_model_in['Age_norm']= out['norm_data']\n",
    "Age_mean= out['mean']\n",
    "Age_std= out['std']"
   ]
  },
  {
   "cell_type": "code",
   "execution_count": 5,
   "metadata": {},
   "outputs": [],
   "source": [
    "data_model_norm_in= data_model_in[['Gender_norm', 'Age_norm', 'AnnualIncome_norm']]"
   ]
  },
  {
   "cell_type": "code",
   "execution_count": 6,
   "metadata": {},
   "outputs": [],
   "source": [
    "k_fold= 10\n",
    "Block_dict= cv.split_data(data_model_norm_in, k_fold)"
   ]
  },
  {
   "cell_type": "code",
   "execution_count": 7,
   "metadata": {},
   "outputs": [],
   "source": [
    "CV_dict= cv.ValidationSplit(Block_dict, k_fold)"
   ]
  },
  {
   "cell_type": "code",
   "execution_count": 8,
   "metadata": {},
   "outputs": [
    {
     "data": {
      "text/plain": [
       "[1112.7625,\n",
       " 970.85,\n",
       " 833.2173611111111,\n",
       " 827.93828125,\n",
       " 808.5875,\n",
       " 775.7763888888888,\n",
       " 758.2135204081633,\n",
       " 741.2041015625,\n",
       " 722.598225308642,\n",
       " 732.3919999999999]"
      ]
     },
     "execution_count": 8,
     "metadata": {},
     "output_type": "execute_result"
    }
   ],
   "source": [
    "K= [1,2,3,4,5,6,7,8,9,10]\n",
    "#K= [5]\n",
    "Error= []\n",
    "for i in K:\n",
    "    error= knn.ErrorForK(data, CV_dict, k_fold, i)\n",
    "    Error.append(error)\n",
    "Error"
   ]
  },
  {
   "cell_type": "code",
   "execution_count": 9,
   "metadata": {},
   "outputs": [
    {
     "name": "stdout",
     "output_type": "stream",
     "text": [
      "The Minimum error is 722.598225308642\n",
      "The optimum value of K is 9\n"
     ]
    }
   ],
   "source": [
    "Minimum= min(Error)\n",
    "idx= np.argmin(Error)\n",
    "print(\"The Minimum error is\", Minimum)\n",
    "print(\"The optimum value of K is\", K[idx])"
   ]
  }
 ],
 "metadata": {
  "kernelspec": {
   "display_name": "Python 3",
   "language": "python",
   "name": "python3"
  },
  "language_info": {
   "codemirror_mode": {
    "name": "ipython",
    "version": 3
   },
   "file_extension": ".py",
   "mimetype": "text/x-python",
   "name": "python",
   "nbconvert_exporter": "python",
   "pygments_lexer": "ipython3",
   "version": "3.7.3"
  }
 },
 "nbformat": 4,
 "nbformat_minor": 2
}
